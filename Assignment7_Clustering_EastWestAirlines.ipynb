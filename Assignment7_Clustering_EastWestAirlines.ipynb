{
 "cells": [
  {
   "cell_type": "markdown",
   "id": "2c9aba6b",
   "metadata": {},
   "source": [
    "# Q2 EastWestAirlines"
   ]
  },
  {
   "cell_type": "code",
   "execution_count": 3,
   "id": "202d6190",
   "metadata": {},
   "outputs": [],
   "source": [
    "import pandas as pd\n",
    "from sklearn.cluster import KMeans\n",
    "import matplotlib.pyplot as plt"
   ]
  },
  {
   "cell_type": "code",
   "execution_count": 4,
   "id": "dcc30d49",
   "metadata": {},
   "outputs": [
    {
     "data": {
      "text/html": [
       "<div>\n",
       "<style scoped>\n",
       "    .dataframe tbody tr th:only-of-type {\n",
       "        vertical-align: middle;\n",
       "    }\n",
       "\n",
       "    .dataframe tbody tr th {\n",
       "        vertical-align: top;\n",
       "    }\n",
       "\n",
       "    .dataframe thead th {\n",
       "        text-align: right;\n",
       "    }\n",
       "</style>\n",
       "<table border=\"1\" class=\"dataframe\">\n",
       "  <thead>\n",
       "    <tr style=\"text-align: right;\">\n",
       "      <th></th>\n",
       "      <th>ID#</th>\n",
       "      <th>Balance</th>\n",
       "      <th>Qual_miles</th>\n",
       "      <th>cc1_miles</th>\n",
       "      <th>cc2_miles</th>\n",
       "      <th>cc3_miles</th>\n",
       "      <th>Bonus_miles</th>\n",
       "      <th>Bonus_trans</th>\n",
       "      <th>Flight_miles_12mo</th>\n",
       "      <th>Flight_trans_12</th>\n",
       "      <th>Days_since_enroll</th>\n",
       "      <th>Award?</th>\n",
       "    </tr>\n",
       "  </thead>\n",
       "  <tbody>\n",
       "    <tr>\n",
       "      <th>0</th>\n",
       "      <td>1</td>\n",
       "      <td>28143</td>\n",
       "      <td>0</td>\n",
       "      <td>1</td>\n",
       "      <td>1</td>\n",
       "      <td>1</td>\n",
       "      <td>174</td>\n",
       "      <td>1</td>\n",
       "      <td>0</td>\n",
       "      <td>0</td>\n",
       "      <td>7000</td>\n",
       "      <td>0</td>\n",
       "    </tr>\n",
       "    <tr>\n",
       "      <th>1</th>\n",
       "      <td>2</td>\n",
       "      <td>19244</td>\n",
       "      <td>0</td>\n",
       "      <td>1</td>\n",
       "      <td>1</td>\n",
       "      <td>1</td>\n",
       "      <td>215</td>\n",
       "      <td>2</td>\n",
       "      <td>0</td>\n",
       "      <td>0</td>\n",
       "      <td>6968</td>\n",
       "      <td>0</td>\n",
       "    </tr>\n",
       "    <tr>\n",
       "      <th>2</th>\n",
       "      <td>3</td>\n",
       "      <td>41354</td>\n",
       "      <td>0</td>\n",
       "      <td>1</td>\n",
       "      <td>1</td>\n",
       "      <td>1</td>\n",
       "      <td>4123</td>\n",
       "      <td>4</td>\n",
       "      <td>0</td>\n",
       "      <td>0</td>\n",
       "      <td>7034</td>\n",
       "      <td>0</td>\n",
       "    </tr>\n",
       "    <tr>\n",
       "      <th>3</th>\n",
       "      <td>4</td>\n",
       "      <td>14776</td>\n",
       "      <td>0</td>\n",
       "      <td>1</td>\n",
       "      <td>1</td>\n",
       "      <td>1</td>\n",
       "      <td>500</td>\n",
       "      <td>1</td>\n",
       "      <td>0</td>\n",
       "      <td>0</td>\n",
       "      <td>6952</td>\n",
       "      <td>0</td>\n",
       "    </tr>\n",
       "    <tr>\n",
       "      <th>4</th>\n",
       "      <td>5</td>\n",
       "      <td>97752</td>\n",
       "      <td>0</td>\n",
       "      <td>4</td>\n",
       "      <td>1</td>\n",
       "      <td>1</td>\n",
       "      <td>43300</td>\n",
       "      <td>26</td>\n",
       "      <td>2077</td>\n",
       "      <td>4</td>\n",
       "      <td>6935</td>\n",
       "      <td>1</td>\n",
       "    </tr>\n",
       "  </tbody>\n",
       "</table>\n",
       "</div>"
      ],
      "text/plain": [
       "   ID#  Balance  Qual_miles  cc1_miles  cc2_miles  cc3_miles  Bonus_miles  \\\n",
       "0    1    28143           0          1          1          1          174   \n",
       "1    2    19244           0          1          1          1          215   \n",
       "2    3    41354           0          1          1          1         4123   \n",
       "3    4    14776           0          1          1          1          500   \n",
       "4    5    97752           0          4          1          1        43300   \n",
       "\n",
       "   Bonus_trans  Flight_miles_12mo  Flight_trans_12  Days_since_enroll  Award?  \n",
       "0            1                  0                0               7000       0  \n",
       "1            2                  0                0               6968       0  \n",
       "2            4                  0                0               7034       0  \n",
       "3            1                  0                0               6952       0  \n",
       "4           26               2077                4               6935       1  "
      ]
     },
     "execution_count": 4,
     "metadata": {},
     "output_type": "execute_result"
    }
   ],
   "source": [
    "df = pd.read_excel(\"EastWestAirlines.xlsx\",sheet_name=\"data\")\n",
    "df.head()"
   ]
  },
  {
   "cell_type": "code",
   "execution_count": 5,
   "id": "6b5ff2f4",
   "metadata": {},
   "outputs": [],
   "source": [
    "df_norm = df.iloc[:,1:]"
   ]
  },
  {
   "cell_type": "code",
   "execution_count": 6,
   "id": "06716646",
   "metadata": {},
   "outputs": [],
   "source": [
    "def min_max_scaler(i):\n",
    "    data = pd.DataFrame(i)\n",
    "    df_norm = (data-data.min())/(data.max()-data.min())\n",
    "    return df_norm"
   ]
  },
  {
   "cell_type": "code",
   "execution_count": 7,
   "id": "11daae45",
   "metadata": {},
   "outputs": [
    {
     "data": {
      "text/html": [
       "<div>\n",
       "<style scoped>\n",
       "    .dataframe tbody tr th:only-of-type {\n",
       "        vertical-align: middle;\n",
       "    }\n",
       "\n",
       "    .dataframe tbody tr th {\n",
       "        vertical-align: top;\n",
       "    }\n",
       "\n",
       "    .dataframe thead th {\n",
       "        text-align: right;\n",
       "    }\n",
       "</style>\n",
       "<table border=\"1\" class=\"dataframe\">\n",
       "  <thead>\n",
       "    <tr style=\"text-align: right;\">\n",
       "      <th></th>\n",
       "      <th>Balance</th>\n",
       "      <th>Qual_miles</th>\n",
       "      <th>cc1_miles</th>\n",
       "      <th>cc2_miles</th>\n",
       "      <th>cc3_miles</th>\n",
       "      <th>Bonus_miles</th>\n",
       "      <th>Bonus_trans</th>\n",
       "      <th>Flight_miles_12mo</th>\n",
       "      <th>Flight_trans_12</th>\n",
       "      <th>Days_since_enroll</th>\n",
       "      <th>Award?</th>\n",
       "    </tr>\n",
       "  </thead>\n",
       "  <tbody>\n",
       "    <tr>\n",
       "      <th>0</th>\n",
       "      <td>0.016508</td>\n",
       "      <td>0.0</td>\n",
       "      <td>0.00</td>\n",
       "      <td>0.0</td>\n",
       "      <td>0.0</td>\n",
       "      <td>0.000660</td>\n",
       "      <td>0.011628</td>\n",
       "      <td>0.000000</td>\n",
       "      <td>0.000000</td>\n",
       "      <td>0.843742</td>\n",
       "      <td>0.0</td>\n",
       "    </tr>\n",
       "    <tr>\n",
       "      <th>1</th>\n",
       "      <td>0.011288</td>\n",
       "      <td>0.0</td>\n",
       "      <td>0.00</td>\n",
       "      <td>0.0</td>\n",
       "      <td>0.0</td>\n",
       "      <td>0.000815</td>\n",
       "      <td>0.023256</td>\n",
       "      <td>0.000000</td>\n",
       "      <td>0.000000</td>\n",
       "      <td>0.839884</td>\n",
       "      <td>0.0</td>\n",
       "    </tr>\n",
       "    <tr>\n",
       "      <th>2</th>\n",
       "      <td>0.024257</td>\n",
       "      <td>0.0</td>\n",
       "      <td>0.00</td>\n",
       "      <td>0.0</td>\n",
       "      <td>0.0</td>\n",
       "      <td>0.015636</td>\n",
       "      <td>0.046512</td>\n",
       "      <td>0.000000</td>\n",
       "      <td>0.000000</td>\n",
       "      <td>0.847842</td>\n",
       "      <td>0.0</td>\n",
       "    </tr>\n",
       "    <tr>\n",
       "      <th>3</th>\n",
       "      <td>0.008667</td>\n",
       "      <td>0.0</td>\n",
       "      <td>0.00</td>\n",
       "      <td>0.0</td>\n",
       "      <td>0.0</td>\n",
       "      <td>0.001896</td>\n",
       "      <td>0.011628</td>\n",
       "      <td>0.000000</td>\n",
       "      <td>0.000000</td>\n",
       "      <td>0.837955</td>\n",
       "      <td>0.0</td>\n",
       "    </tr>\n",
       "    <tr>\n",
       "      <th>4</th>\n",
       "      <td>0.057338</td>\n",
       "      <td>0.0</td>\n",
       "      <td>0.75</td>\n",
       "      <td>0.0</td>\n",
       "      <td>0.0</td>\n",
       "      <td>0.164211</td>\n",
       "      <td>0.302326</td>\n",
       "      <td>0.067398</td>\n",
       "      <td>0.075472</td>\n",
       "      <td>0.835905</td>\n",
       "      <td>1.0</td>\n",
       "    </tr>\n",
       "  </tbody>\n",
       "</table>\n",
       "</div>"
      ],
      "text/plain": [
       "    Balance  Qual_miles  cc1_miles  cc2_miles  cc3_miles  Bonus_miles  \\\n",
       "0  0.016508         0.0       0.00        0.0        0.0     0.000660   \n",
       "1  0.011288         0.0       0.00        0.0        0.0     0.000815   \n",
       "2  0.024257         0.0       0.00        0.0        0.0     0.015636   \n",
       "3  0.008667         0.0       0.00        0.0        0.0     0.001896   \n",
       "4  0.057338         0.0       0.75        0.0        0.0     0.164211   \n",
       "\n",
       "   Bonus_trans  Flight_miles_12mo  Flight_trans_12  Days_since_enroll  Award?  \n",
       "0     0.011628           0.000000         0.000000           0.843742     0.0  \n",
       "1     0.023256           0.000000         0.000000           0.839884     0.0  \n",
       "2     0.046512           0.000000         0.000000           0.847842     0.0  \n",
       "3     0.011628           0.000000         0.000000           0.837955     0.0  \n",
       "4     0.302326           0.067398         0.075472           0.835905     1.0  "
      ]
     },
     "execution_count": 7,
     "metadata": {},
     "output_type": "execute_result"
    }
   ],
   "source": [
    "df_norm = min_max_scaler(df_norm)\n",
    "df_norm.head()"
   ]
  },
  {
   "cell_type": "code",
   "execution_count": 8,
   "id": "2ae187c2",
   "metadata": {},
   "outputs": [
    {
     "data": {
      "text/plain": [
       "ID#                  0\n",
       "Balance              0\n",
       "Qual_miles           0\n",
       "cc1_miles            0\n",
       "cc2_miles            0\n",
       "cc3_miles            0\n",
       "Bonus_miles          0\n",
       "Bonus_trans          0\n",
       "Flight_miles_12mo    0\n",
       "Flight_trans_12      0\n",
       "Days_since_enroll    0\n",
       "Award?               0\n",
       "dtype: int64"
      ]
     },
     "execution_count": 8,
     "metadata": {},
     "output_type": "execute_result"
    }
   ],
   "source": [
    "df.isnull().sum()"
   ]
  },
  {
   "cell_type": "code",
   "execution_count": 9,
   "id": "3c8dd338",
   "metadata": {},
   "outputs": [
    {
     "data": {
      "text/plain": [
       "ID#                  0\n",
       "Balance              0\n",
       "Qual_miles           0\n",
       "cc1_miles            0\n",
       "cc2_miles            0\n",
       "cc3_miles            0\n",
       "Bonus_miles          0\n",
       "Bonus_trans          0\n",
       "Flight_miles_12mo    0\n",
       "Flight_trans_12      0\n",
       "Days_since_enroll    0\n",
       "Award?               0\n",
       "dtype: int64"
      ]
     },
     "execution_count": 9,
     "metadata": {},
     "output_type": "execute_result"
    }
   ],
   "source": [
    "df.isna().sum()"
   ]
  },
  {
   "cell_type": "markdown",
   "id": "5eaa7e07",
   "metadata": {},
   "source": [
    "# Using k-means"
   ]
  },
  {
   "cell_type": "code",
   "execution_count": 10,
   "id": "a9624041",
   "metadata": {},
   "outputs": [],
   "source": [
    "model = KMeans(n_clusters=3)\n",
    "y = model.fit_predict(df_norm)"
   ]
  },
  {
   "cell_type": "code",
   "execution_count": 11,
   "id": "e5bdda84",
   "metadata": {},
   "outputs": [
    {
     "data": {
      "text/plain": [
       "0    (6, 30, 32, 44, 56, 58, 60, 67, 71, 72, 74, 75...\n",
       "1    (0, 1, 2, 3, 5, 10, 12, 13, 14, 22, 23, 24, 25...\n",
       "2    (4, 7, 8, 9, 11, 15, 16, 17, 18, 19, 20, 21, 2...\n",
       "Name: index, dtype: object"
      ]
     },
     "execution_count": 11,
     "metadata": {},
     "output_type": "execute_result"
    }
   ],
   "source": [
    "df_kmeans = df_norm.copy(deep=True)\n",
    "df_kmeans[\"index\"]= df_norm.index\n",
    "df_kmeans[\"y\"] = y\n",
    "df_kmeans[\"index\"].groupby(y).apply( lambda x : tuple(x))"
   ]
  },
  {
   "cell_type": "markdown",
   "id": "f088ecf8",
   "metadata": {},
   "source": [
    "# Finding optimal number of clusters"
   ]
  },
  {
   "cell_type": "markdown",
   "id": "7f642ecb",
   "metadata": {},
   "source": [
    "+ using inertia"
   ]
  },
  {
   "cell_type": "code",
   "execution_count": 12,
   "id": "0c74139f",
   "metadata": {},
   "outputs": [],
   "source": [
    "nc = [2,3,4,5,6,7,8,9]\n",
    "iner = []\n",
    "for i in nc:\n",
    "    km = KMeans(i)\n",
    "    y=km.fit_predict(df_norm)\n",
    "    iner.append(km.inertia_)"
   ]
  },
  {
   "cell_type": "code",
   "execution_count": 13,
   "id": "cce2eb98",
   "metadata": {},
   "outputs": [
    {
     "data": {
      "text/plain": [
       "<matplotlib.collections.PathCollection at 0x1da449e21f0>"
      ]
     },
     "execution_count": 13,
     "metadata": {},
     "output_type": "execute_result"
    },
    {
     "data": {
      "image/png": "[encoded data removed]",
      "text/plain": [
       "<Figure size 432x288 with 1 Axes>"
      ]
     },
     "metadata": {
      "needs_background": "light"
     },
     "output_type": "display_data"
    }
   ],
   "source": [
    "plt.plot(nc,iner,color=\"black\")\n",
    "plt.scatter(nc,iner,color=\"red\")"
   ]
  },
  {
   "cell_type": "code",
   "execution_count": 14,
   "id": "5c7dbd56",
   "metadata": {},
   "outputs": [
    {
     "data": {
      "text/plain": [
       "True"
      ]
     },
     "execution_count": 14,
     "metadata": {},
     "output_type": "execute_result"
    }
   ],
   "source": [
    "iner[0]-iner[1]>iner[1]-iner[2]"
   ]
  },
  {
   "cell_type": "code",
   "execution_count": 15,
   "id": "57ec6131",
   "metadata": {},
   "outputs": [],
   "source": [
    "# hence 3 is the optimal number of clusters according inertia score"
   ]
  },
  {
   "cell_type": "markdown",
   "id": "f398cd1e",
   "metadata": {},
   "source": [
    "+ using silhouette score"
   ]
  },
  {
   "cell_type": "code",
   "execution_count": 16,
   "id": "1b5f3a15",
   "metadata": {},
   "outputs": [],
   "source": [
    "from sklearn.metrics import silhouette_score as sil"
   ]
  },
  {
   "cell_type": "code",
   "execution_count": 17,
   "id": "32a78421",
   "metadata": {},
   "outputs": [],
   "source": [
    "nc = [2,3,4,5,6,7,8,9]\n",
    "silh = []\n",
    "for i in nc:\n",
    "    km = KMeans(i)\n",
    "    y=km.fit_predict(df_norm)\n",
    "    silh.append(sil(df_norm,y))"
   ]
  },
  {
   "cell_type": "code",
   "execution_count": 18,
   "id": "2f5c9c93",
   "metadata": {},
   "outputs": [
    {
     "data": {
      "text/plain": [
       "<matplotlib.collections.PathCollection at 0x1da4553f790>"
      ]
     },
     "execution_count": 18,
     "metadata": {},
     "output_type": "execute_result"
    },
    {
     "data": {
      "image/png": "[encoded data removed]",
      "text/plain": [
       "<Figure size 432x288 with 1 Axes>"
      ]
     },
     "metadata": {
      "needs_background": "light"
     },
     "output_type": "display_data"
    }
   ],
   "source": [
    "plt.plot(nc,silh,color=\"black\")\n",
    "plt.scatter(nc,silh,color=\"red\")"
   ]
  },
  {
   "cell_type": "code",
   "execution_count": 19,
   "id": "e141ce98",
   "metadata": {},
   "outputs": [],
   "source": [
    "# hence 2 is the optimal number of clusters according to silhouette score"
   ]
  },
  {
   "cell_type": "markdown",
   "id": "67cb1dd3",
   "metadata": {},
   "source": [
    "+ using c-h score"
   ]
  },
  {
   "cell_type": "code",
   "execution_count": 20,
   "id": "ea6a3ab6",
   "metadata": {},
   "outputs": [],
   "source": [
    "from sklearn.metrics import calinski_harabasz_score as chs"
   ]
  },
  {
   "cell_type": "code",
   "execution_count": 21,
   "id": "fe1daa15",
   "metadata": {},
   "outputs": [],
   "source": [
    "nc = [2,3,4,5,6,7,8,9]\n",
    "chs1 = []\n",
    "for i in nc:\n",
    "    km = KMeans(i)\n",
    "    y=km.fit_predict(df_norm)\n",
    "    chs1.append(chs(df_norm,y))"
   ]
  },
  {
   "cell_type": "code",
   "execution_count": 22,
   "id": "54321432",
   "metadata": {},
   "outputs": [
    {
     "data": {
      "text/plain": [
       "<matplotlib.collections.PathCollection at 0x1da455ac9a0>"
      ]
     },
     "execution_count": 22,
     "metadata": {},
     "output_type": "execute_result"
    },
    {
     "data": {
      "image/png": "[encoded data removed]",
      "text/plain": [
       "<Figure size 432x288 with 1 Axes>"
      ]
     },
     "metadata": {
      "needs_background": "light"
     },
     "output_type": "display_data"
    }
   ],
   "source": [
    "plt.plot(nc,chs1,color=\"black\")\n",
    "plt.scatter(nc,chs1,color=\"red\")"
   ]
  },
  {
   "cell_type": "code",
   "execution_count": 23,
   "id": "52411e0d",
   "metadata": {},
   "outputs": [],
   "source": [
    "# hence 2 is the optimal number of clusters according to c-h score"
   ]
  },
  {
   "cell_type": "code",
   "execution_count": 65,
   "id": "e0013421",
   "metadata": {},
   "outputs": [],
   "source": [
    "model = KMeans(n_clusters=4)\n",
    "y = model.fit_predict(df_norm)"
   ]
  },
  {
   "cell_type": "code",
   "execution_count": 66,
   "id": "26542b41",
   "metadata": {},
   "outputs": [
    {
     "data": {
      "text/plain": [
       "0    (7, 17, 21, 29, 36, 39, 42, 45, 47, 53, 57, 80...\n",
       "1    (0, 1, 2, 3, 5, 10, 12, 13, 14, 22, 23, 24, 25...\n",
       "2    (6, 30, 32, 44, 56, 58, 60, 67, 71, 72, 74, 75...\n",
       "3    (4, 8, 9, 11, 15, 16, 18, 19, 20, 28, 35, 38, ...\n",
       "Name: index, dtype: object"
      ]
     },
     "execution_count": 66,
     "metadata": {},
     "output_type": "execute_result"
    }
   ],
   "source": [
    "df_kmeans1 = df_norm.copy(deep=True)\n",
    "df_kmeans1[\"index\"]= df_norm.index\n",
    "df_kmeans1[\"y\"] = y\n",
    "df_kmeans1[\"index\"].groupby(y).apply( lambda x : tuple(x))"
   ]
  },
  {
   "cell_type": "markdown",
   "id": "bff7e8a3",
   "metadata": {},
   "source": [
    "# Using hierarchical clustering"
   ]
  },
  {
   "cell_type": "code",
   "execution_count": 32,
   "id": "8e7f8132",
   "metadata": {},
   "outputs": [],
   "source": [
    "from sklearn.cluster import AgglomerativeClustering"
   ]
  },
  {
   "cell_type": "code",
   "execution_count": 27,
   "id": "af98d124",
   "metadata": {},
   "outputs": [],
   "source": [
    "model = AgglomerativeClustering(n_clusters=4,affinity='euclidean',linkage='complete')\n",
    "y = model.fit_predict(df_norm)"
   ]
  },
  {
   "cell_type": "code",
   "execution_count": 28,
   "id": "88d41308",
   "metadata": {},
   "outputs": [
    {
     "data": {
      "text/plain": [
       "0    (0, 1, 2, 3, 5, 6, 10, 12, 13, 14, 22, 23, 24,...\n",
       "1    (4, 11, 15, 16, 20, 35, 41, 52, 78, 79, 85, 92...\n",
       "2    (7, 8, 9, 17, 18, 19, 21, 28, 29, 36, 38, 39, ...\n",
       "3                             (2015, 3235, 3583, 3594)\n",
       "Name: index, dtype: object"
      ]
     },
     "execution_count": 28,
     "metadata": {},
     "output_type": "execute_result"
    }
   ],
   "source": [
    "df_hc = df_norm.copy(deep=True)\n",
    "df_hc[\"index\"]= df_norm.index\n",
    "df_hc[\"y\"] = y\n",
    "df_hc[\"index\"].groupby(y).apply( lambda x : tuple(x))"
   ]
  },
  {
   "cell_type": "markdown",
   "id": "55924bf9",
   "metadata": {},
   "source": [
    "# Using DBSCAN"
   ]
  },
  {
   "cell_type": "code",
   "execution_count": 33,
   "id": "69500711",
   "metadata": {},
   "outputs": [],
   "source": [
    "from sklearn.cluster import DBSCAN"
   ]
  },
  {
   "cell_type": "code",
   "execution_count": 61,
   "id": "77204d12",
   "metadata": {},
   "outputs": [
    {
     "data": {
      "text/plain": [
       "array([ 0,  0,  0, ..., -1,  0,  0], dtype=int64)"
      ]
     },
     "execution_count": 61,
     "metadata": {},
     "output_type": "execute_result"
    }
   ],
   "source": [
    "model = DBSCAN(min_samples=130,eps=0.2)\n",
    "y = model.fit_predict(df_norm)\n",
    "y"
   ]
  },
  {
   "cell_type": "code",
   "execution_count": 62,
   "id": "61a419fd",
   "metadata": {},
   "outputs": [
    {
     "data": {
      "text/plain": [
       "-1    (8, 9, 10, 11, 12, 18, 19, 20, 21, 28, 30, 32,...\n",
       " 0    (0, 1, 2, 3, 5, 13, 14, 22, 23, 24, 25, 26, 27...\n",
       " 1    (7, 17, 29, 36, 39, 45, 47, 53, 57, 80, 86, 89...\n",
       " 2    (6, 58, 60, 144, 148, 185, 197, 224, 252, 297,...\n",
       " 3    (4, 15, 16, 92, 108, 109, 129, 137, 150, 281, ...\n",
       "Name: index, dtype: object"
      ]
     },
     "execution_count": 62,
     "metadata": {},
     "output_type": "execute_result"
    }
   ],
   "source": [
    "df_dbs = df_norm.copy(deep=True)\n",
    "df_dbs[\"index\"]= df_norm.index\n",
    "df_dbs[\"y\"] = y\n",
    "df_dbs[\"index\"].groupby(y).apply( lambda x : tuple(x))"
   ]
  },
  {
   "cell_type": "markdown",
   "id": "85b5bf6e",
   "metadata": {},
   "source": [
    "# Taking the optimum number of clusters as 4 instead of 2 as per K-means so that the airlines can design various plans accordingly\n",
    "\n",
    "having low miles to qualify for award(free flight) and won it & lesser usage of credit cards-(7, 17, 21, 29, 36, 39, 42, 45, 47, 53, 57, 80...)\n",
    "\n",
    "having low miles to qualify for award(free flight) and did not win it & lesser usage of credit cards-(0, 1, 2, 3, 5, 10, 12, 13, 14, 22, 23, 24, 25...)\n",
    "\n",
    "having very high miles to qualify for award(free flight) and did not win it & greater usage of frequent flier credit cards-(6, 30, 32, 44, 56, 58, 60, 67, 71, 72, 74, 75...)\n",
    "\n",
    "FREQUENT FLIER having high miles to qualify for award(free flight) and won it & greater usage of frequent flier credit cards-(4, 8, 9, 11, 15, 16, 18, 19, 20, 28, 35, 38, ...)"
   ]
  }
 ],
 "metadata": {
  "kernelspec": {
   "display_name": "Python 3",
   "language": "python",
   "name": "python3"
  },
  "language_info": {
   "codemirror_mode": {
    "name": "ipython",
    "version": 3
   },
   "file_extension": ".py",
   "mimetype": "text/x-python",
   "name": "python",
   "nbconvert_exporter": "python",
   "pygments_lexer": "ipython3",
   "version": "3.8.8"
  }
 },
 "nbformat": 4,
 "nbformat_minor": 5
}
