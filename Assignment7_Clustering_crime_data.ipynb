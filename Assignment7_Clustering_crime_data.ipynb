{
 "cells": [
  {
   "cell_type": "markdown",
   "id": "a2c79033",
   "metadata": {},
   "source": [
    "# Q1 CRIME_DATA"
   ]
  },
  {
   "cell_type": "code",
   "execution_count": null,
   "id": "fe7e6159",
   "metadata": {},
   "outputs": [],
   "source": [
    "import pandas as pd\n",
    "from sklearn.cluster import KMeans\n",
    "from matplotlib import pyplot as plt\n",
    "from sklearn.cluster import AgglomerativeClustering\n",
    "import scipy.cluster.hierarchy as sch\n",
    "from sklearn.cluster import DBSCAN"
   ]
  },
  {
   "cell_type": "code",
   "execution_count": 258,
   "id": "e2b122b1",
   "metadata": {},
   "outputs": [
    {
     "data": {
      "text/html": [
       "<div>\n",
       "<style scoped>\n",
       "    .dataframe tbody tr th:only-of-type {\n",
       "        vertical-align: middle;\n",
       "    }\n",
       "\n",
       "    .dataframe tbody tr th {\n",
       "        vertical-align: top;\n",
       "    }\n",
       "\n",
       "    .dataframe thead th {\n",
       "        text-align: right;\n",
       "    }\n",
       "</style>\n",
       "<table border=\"1\" class=\"dataframe\">\n",
       "  <thead>\n",
       "    <tr style=\"text-align: right;\">\n",
       "      <th></th>\n",
       "      <th>State</th>\n",
       "      <th>Murder</th>\n",
       "      <th>Assault</th>\n",
       "      <th>UrbanPop</th>\n",
       "      <th>Rape</th>\n",
       "    </tr>\n",
       "  </thead>\n",
       "  <tbody>\n",
       "    <tr>\n",
       "      <th>0</th>\n",
       "      <td>Alabama</td>\n",
       "      <td>13.2</td>\n",
       "      <td>236</td>\n",
       "      <td>58</td>\n",
       "      <td>21.2</td>\n",
       "    </tr>\n",
       "    <tr>\n",
       "      <th>1</th>\n",
       "      <td>Alaska</td>\n",
       "      <td>10.0</td>\n",
       "      <td>263</td>\n",
       "      <td>48</td>\n",
       "      <td>44.5</td>\n",
       "    </tr>\n",
       "    <tr>\n",
       "      <th>2</th>\n",
       "      <td>Arizona</td>\n",
       "      <td>8.1</td>\n",
       "      <td>294</td>\n",
       "      <td>80</td>\n",
       "      <td>31.0</td>\n",
       "    </tr>\n",
       "    <tr>\n",
       "      <th>3</th>\n",
       "      <td>Arkansas</td>\n",
       "      <td>8.8</td>\n",
       "      <td>190</td>\n",
       "      <td>50</td>\n",
       "      <td>19.5</td>\n",
       "    </tr>\n",
       "    <tr>\n",
       "      <th>4</th>\n",
       "      <td>California</td>\n",
       "      <td>9.0</td>\n",
       "      <td>276</td>\n",
       "      <td>91</td>\n",
       "      <td>40.6</td>\n",
       "    </tr>\n",
       "  </tbody>\n",
       "</table>\n",
       "</div>"
      ],
      "text/plain": [
       "        State  Murder  Assault  UrbanPop  Rape\n",
       "0     Alabama    13.2      236        58  21.2\n",
       "1      Alaska    10.0      263        48  44.5\n",
       "2     Arizona     8.1      294        80  31.0\n",
       "3    Arkansas     8.8      190        50  19.5\n",
       "4  California     9.0      276        91  40.6"
      ]
     },
     "execution_count": 258,
     "metadata": {},
     "output_type": "execute_result"
    }
   ],
   "source": [
    "df= pd.read_csv(\"crime_data.csv\")\n",
    "df=df.rename(mapper={\"Unnamed: 0\":\"State\"},axis=1)\n",
    "df.head()"
   ]
  },
  {
   "cell_type": "code",
   "execution_count": 181,
   "id": "c9cb7cbf",
   "metadata": {},
   "outputs": [
    {
     "data": {
      "text/plain": [
       "Unnamed: 0    0\n",
       "Murder        0\n",
       "Assault       0\n",
       "UrbanPop      0\n",
       "Rape          0\n",
       "dtype: int64"
      ]
     },
     "execution_count": 181,
     "metadata": {},
     "output_type": "execute_result"
    }
   ],
   "source": [
    "df.isnull().sum()"
   ]
  },
  {
   "cell_type": "code",
   "execution_count": 182,
   "id": "b0a11f39",
   "metadata": {},
   "outputs": [
    {
     "data": {
      "text/plain": [
       "Unnamed: 0    0\n",
       "Murder        0\n",
       "Assault       0\n",
       "UrbanPop      0\n",
       "Rape          0\n",
       "dtype: int64"
      ]
     },
     "execution_count": 182,
     "metadata": {},
     "output_type": "execute_result"
    }
   ],
   "source": [
    "df.isna().sum()"
   ]
  },
  {
   "cell_type": "code",
   "execution_count": 183,
   "id": "b0efb875",
   "metadata": {},
   "outputs": [],
   "source": [
    "#normalising the data\n",
    "def min_max_scaler(data):\n",
    "    i = pd.DataFrame(data)\n",
    "    df_norm=(i-i.min())/(i.max()-i.min())\n",
    "    return df_norm"
   ]
  },
  {
   "cell_type": "code",
   "execution_count": 184,
   "id": "9157ba74",
   "metadata": {},
   "outputs": [],
   "source": [
    "df_norm = min_max_scaler(df.iloc[:,1:])"
   ]
  },
  {
   "cell_type": "markdown",
   "id": "be1e9377",
   "metadata": {},
   "source": [
    "# k-means"
   ]
  },
  {
   "cell_type": "code",
   "execution_count": 185,
   "id": "ca1bed23",
   "metadata": {},
   "outputs": [],
   "source": [
    "model = KMeans(n_clusters=4)\n",
    "y = model.fit_predict(df_norm)\n",
    "df_kmeans = df_norm.copy(deep=True)"
   ]
  },
  {
   "cell_type": "code",
   "execution_count": 186,
   "id": "d225fbd5",
   "metadata": {},
   "outputs": [
    {
     "data": {
      "text/html": [
       "<div>\n",
       "<style scoped>\n",
       "    .dataframe tbody tr th:only-of-type {\n",
       "        vertical-align: middle;\n",
       "    }\n",
       "\n",
       "    .dataframe tbody tr th {\n",
       "        vertical-align: top;\n",
       "    }\n",
       "\n",
       "    .dataframe thead th {\n",
       "        text-align: right;\n",
       "    }\n",
       "</style>\n",
       "<table border=\"1\" class=\"dataframe\">\n",
       "  <thead>\n",
       "    <tr style=\"text-align: right;\">\n",
       "      <th></th>\n",
       "      <th>Murder</th>\n",
       "      <th>Assault</th>\n",
       "      <th>UrbanPop</th>\n",
       "      <th>Rape</th>\n",
       "      <th>index</th>\n",
       "      <th>y</th>\n",
       "    </tr>\n",
       "  </thead>\n",
       "  <tbody>\n",
       "    <tr>\n",
       "      <th>0</th>\n",
       "      <td>0.746988</td>\n",
       "      <td>0.654110</td>\n",
       "      <td>0.440678</td>\n",
       "      <td>0.359173</td>\n",
       "      <td>0</td>\n",
       "      <td>1</td>\n",
       "    </tr>\n",
       "    <tr>\n",
       "      <th>1</th>\n",
       "      <td>0.554217</td>\n",
       "      <td>0.746575</td>\n",
       "      <td>0.271186</td>\n",
       "      <td>0.961240</td>\n",
       "      <td>1</td>\n",
       "      <td>3</td>\n",
       "    </tr>\n",
       "    <tr>\n",
       "      <th>2</th>\n",
       "      <td>0.439759</td>\n",
       "      <td>0.852740</td>\n",
       "      <td>0.813559</td>\n",
       "      <td>0.612403</td>\n",
       "      <td>2</td>\n",
       "      <td>3</td>\n",
       "    </tr>\n",
       "    <tr>\n",
       "      <th>3</th>\n",
       "      <td>0.481928</td>\n",
       "      <td>0.496575</td>\n",
       "      <td>0.305085</td>\n",
       "      <td>0.315245</td>\n",
       "      <td>3</td>\n",
       "      <td>1</td>\n",
       "    </tr>\n",
       "    <tr>\n",
       "      <th>4</th>\n",
       "      <td>0.493976</td>\n",
       "      <td>0.791096</td>\n",
       "      <td>1.000000</td>\n",
       "      <td>0.860465</td>\n",
       "      <td>4</td>\n",
       "      <td>3</td>\n",
       "    </tr>\n",
       "  </tbody>\n",
       "</table>\n",
       "</div>"
      ],
      "text/plain": [
       "     Murder   Assault  UrbanPop      Rape  index  y\n",
       "0  0.746988  0.654110  0.440678  0.359173      0  1\n",
       "1  0.554217  0.746575  0.271186  0.961240      1  3\n",
       "2  0.439759  0.852740  0.813559  0.612403      2  3\n",
       "3  0.481928  0.496575  0.305085  0.315245      3  1\n",
       "4  0.493976  0.791096  1.000000  0.860465      4  3"
      ]
     },
     "execution_count": 186,
     "metadata": {},
     "output_type": "execute_result"
    }
   ],
   "source": [
    "index=df.index\n",
    "df_kmeans[\"index\"]=pd.Series(index)\n",
    "df_kmeans[\"y\"]= y\n",
    "df_kmeans.head()"
   ]
  },
  {
   "cell_type": "code",
   "execution_count": 187,
   "id": "74722914",
   "metadata": {},
   "outputs": [
    {
     "data": {
      "text/plain": [
       "0    (6, 7, 10, 13, 15, 20, 24, 29, 34, 35, 36, 37,...\n",
       "1                        (0, 3, 9, 17, 23, 32, 39, 41)\n",
       "2    (11, 14, 16, 18, 22, 25, 26, 28, 33, 40, 44, 4...\n",
       "3          (1, 2, 4, 5, 8, 12, 19, 21, 27, 30, 31, 42)\n",
       "Name: index, dtype: object"
      ]
     },
     "execution_count": 187,
     "metadata": {},
     "output_type": "execute_result"
    }
   ],
   "source": [
    "df_kmeans[\"index\"].groupby(y).apply(lambda x:tuple(x))"
   ]
  },
  {
   "cell_type": "markdown",
   "id": "2aa66494",
   "metadata": {},
   "source": [
    "# finding optimum no. of clusters"
   ]
  },
  {
   "cell_type": "markdown",
   "id": "11c54a8b",
   "metadata": {},
   "source": [
    "+ using inertia"
   ]
  },
  {
   "cell_type": "code",
   "execution_count": 188,
   "id": "61502915",
   "metadata": {},
   "outputs": [],
   "source": [
    "nc = list(range(2,9))\n",
    "iner=[]\n",
    "for i in nc:\n",
    "    km = KMeans(i)\n",
    "    km.fit(df_norm)\n",
    "    iner.append(km.inertia_)"
   ]
  },
  {
   "cell_type": "code",
   "execution_count": 189,
   "id": "d0e33ca3",
   "metadata": {},
   "outputs": [
    {
     "data": {
      "image/png": "[encoded data removed]",
      "text/plain": [
       "<Figure size 432x288 with 1 Axes>"
      ]
     },
     "metadata": {
      "needs_background": "light"
     },
     "output_type": "display_data"
    }
   ],
   "source": [
    "plt.plot(nc,iner,color=\"black\")\n",
    "plt.scatter(nc,iner,color=\"red\")\n",
    "plt.show()"
   ]
  },
  {
   "cell_type": "code",
   "execution_count": 190,
   "id": "96e8b5ec",
   "metadata": {},
   "outputs": [
    {
     "data": {
      "text/plain": [
       "True"
      ]
     },
     "execution_count": 190,
     "metadata": {},
     "output_type": "execute_result"
    }
   ],
   "source": [
    "(iner[0]-iner[1])>(iner[1]-iner[2])"
   ]
  },
  {
   "cell_type": "code",
   "execution_count": 191,
   "id": "670ed88b",
   "metadata": {},
   "outputs": [],
   "source": [
    "# hence 3 is optimal no of clusters according to inertia scale"
   ]
  },
  {
   "cell_type": "markdown",
   "id": "46dda4b7",
   "metadata": {},
   "source": [
    "+ using silhouette score"
   ]
  },
  {
   "cell_type": "code",
   "execution_count": 192,
   "id": "d60c0489",
   "metadata": {},
   "outputs": [],
   "source": [
    "from sklearn.metrics import silhouette_score as sil"
   ]
  },
  {
   "cell_type": "code",
   "execution_count": 193,
   "id": "9bd0e7c3",
   "metadata": {},
   "outputs": [],
   "source": [
    "nc = list(range(2,9))\n",
    "iner=[]\n",
    "for i in nc:\n",
    "    km = KMeans(i)\n",
    "    y=km.fit_predict(df_norm)\n",
    "    iner.append(sil(df_norm,y))"
   ]
  },
  {
   "cell_type": "code",
   "execution_count": 194,
   "id": "547bd15c",
   "metadata": {},
   "outputs": [
    {
     "data": {
      "image/png": "[encoded data removed]",
      "text/plain": [
       "<Figure size 432x288 with 1 Axes>"
      ]
     },
     "metadata": {
      "needs_background": "light"
     },
     "output_type": "display_data"
    }
   ],
   "source": [
    "plt.plot(nc,iner,color=\"black\")\n",
    "plt.scatter(nc,iner,color=\"red\")\n",
    "plt.show()"
   ]
  },
  {
   "cell_type": "code",
   "execution_count": 195,
   "id": "2657c541",
   "metadata": {},
   "outputs": [],
   "source": [
    "# hence 2 is optimal no of clusters according to silhouette score"
   ]
  },
  {
   "cell_type": "markdown",
   "id": "fc6301d2",
   "metadata": {},
   "source": [
    "+ using c-h score"
   ]
  },
  {
   "cell_type": "code",
   "execution_count": 196,
   "id": "1615ba9c",
   "metadata": {},
   "outputs": [],
   "source": [
    "from sklearn.metrics import calinski_harabasz_score as chs"
   ]
  },
  {
   "cell_type": "code",
   "execution_count": 197,
   "id": "b78312da",
   "metadata": {},
   "outputs": [],
   "source": [
    "nc = list(range(2,9))\n",
    "iner=[]\n",
    "for i in nc:\n",
    "    km = KMeans(i)\n",
    "    y=km.fit_predict(df_norm)\n",
    "    iner.append(chs(df_norm,y))"
   ]
  },
  {
   "cell_type": "code",
   "execution_count": 198,
   "id": "aee6834b",
   "metadata": {},
   "outputs": [
    {
     "data": {
      "image/png": "[encoded data removed]",
      "text/plain": [
       "<Figure size 432x288 with 1 Axes>"
      ]
     },
     "metadata": {
      "needs_background": "light"
     },
     "output_type": "display_data"
    }
   ],
   "source": [
    "plt.plot(nc,iner,color=\"black\")\n",
    "plt.scatter(nc,iner,color=\"red\")\n",
    "plt.show()"
   ]
  },
  {
   "cell_type": "code",
   "execution_count": 199,
   "id": "db993849",
   "metadata": {},
   "outputs": [],
   "source": [
    "# hence 2 is optimal no of clusters according to c-h score"
   ]
  },
  {
   "cell_type": "code",
   "execution_count": 250,
   "id": "6cce973d",
   "metadata": {},
   "outputs": [],
   "source": [
    "# Chossing 2 as as optimal number of clusters\n",
    "model = KMeans(n_clusters=2)\n",
    "y=model.fit_predict(df_norm)"
   ]
  },
  {
   "cell_type": "code",
   "execution_count": 251,
   "id": "f77454f9",
   "metadata": {},
   "outputs": [
    {
     "data": {
      "text/plain": [
       "0    (3, 6, 7, 10, 11, 13, 14, 15, 16, 18, 20, 22, ...\n",
       "1    (0, 1, 2, 4, 5, 8, 9, 12, 17, 19, 21, 23, 24, ...\n",
       "Name: index, dtype: object"
      ]
     },
     "execution_count": 251,
     "metadata": {},
     "output_type": "execute_result"
    }
   ],
   "source": [
    "df_kmeans1 = df_norm.copy(deep=True)\n",
    "df_kmeans1[\"index\"]= df_norm.index\n",
    "df_kmeans1[\"y\"]= y\n",
    "df_kmeans1[\"index\"].groupby(y).apply(lambda x: tuple(x))"
   ]
  },
  {
   "cell_type": "markdown",
   "id": "5f6a7c17",
   "metadata": {},
   "source": [
    "Hence we get 2 clusters one having higher crime rate(mainly assault and rape) and one cluster having low crime rate according to k means"
   ]
  },
  {
   "cell_type": "markdown",
   "id": "3d8c8c5d",
   "metadata": {},
   "source": [
    "# Using hierarchical clustering"
   ]
  },
  {
   "cell_type": "code",
   "execution_count": 202,
   "id": "327a81e1",
   "metadata": {},
   "outputs": [],
   "source": [
    "model = AgglomerativeClustering(n_clusters=2,affinity='euclidean',linkage='complete')\n",
    "y= model.fit_predict(df_norm)"
   ]
  },
  {
   "cell_type": "code",
   "execution_count": 203,
   "id": "172333b2",
   "metadata": {},
   "outputs": [
    {
     "data": {
      "image/png": "[encoded data removed]",
      "text/plain": [
       "<Figure size 432x288 with 1 Axes>"
      ]
     },
     "metadata": {
      "needs_background": "light"
     },
     "output_type": "display_data"
    }
   ],
   "source": [
    "dendro=sch.dendrogram(sch.linkage(df_norm,method='complete'))"
   ]
  },
  {
   "cell_type": "code",
   "execution_count": 204,
   "id": "2c863ef5",
   "metadata": {},
   "outputs": [
    {
     "data": {
      "text/plain": [
       "0    (3, 6, 7, 10, 11, 13, 14, 15, 16, 18, 20, 22, ...\n",
       "1    (0, 1, 2, 4, 5, 8, 9, 12, 17, 19, 21, 23, 24, ...\n",
       "Name: index, dtype: object"
      ]
     },
     "execution_count": 204,
     "metadata": {},
     "output_type": "execute_result"
    }
   ],
   "source": [
    "df_hc = df_norm.copy(deep=True)\n",
    "df_hc[\"index\"]= df_hc.index\n",
    "df_hc[\"y\"]= y\n",
    "df_hc[\"index\"].groupby(y).apply(lambda x: tuple(x))"
   ]
  },
  {
   "cell_type": "markdown",
   "id": "92adeacb",
   "metadata": {},
   "source": [
    "# Finding optimum number of clusters"
   ]
  },
  {
   "cell_type": "markdown",
   "id": "d2e651f1",
   "metadata": {},
   "source": [
    "+ using silhouette score"
   ]
  },
  {
   "cell_type": "code",
   "execution_count": 205,
   "id": "20032592",
   "metadata": {},
   "outputs": [],
   "source": [
    "nc = [2,3,4,5,6,7,8,9]\n",
    "silh = []\n",
    "for i in nc:\n",
    "    hc = AgglomerativeClustering(n_clusters=i,affinity='euclidean',linkage='complete')\n",
    "    y = hc.fit_predict(df_norm)\n",
    "    silh.append(sil(df_norm,y))"
   ]
  },
  {
   "cell_type": "code",
   "execution_count": 206,
   "id": "d21b392e",
   "metadata": {},
   "outputs": [
    {
     "data": {
      "image/png": "[encoded data removed]",
      "text/plain": [
       "<Figure size 432x288 with 1 Axes>"
      ]
     },
     "metadata": {
      "needs_background": "light"
     },
     "output_type": "display_data"
    }
   ],
   "source": [
    "plt.plot(nc,silh,color=\"black\")\n",
    "plt.scatter(nc,silh,color=\"red\")\n",
    "plt.show()"
   ]
  },
  {
   "cell_type": "code",
   "execution_count": 207,
   "id": "79c7d638",
   "metadata": {},
   "outputs": [],
   "source": [
    "# hence 2 is optimal no of clusters according to silhouette score"
   ]
  },
  {
   "cell_type": "markdown",
   "id": "46e16ffd",
   "metadata": {},
   "source": [
    "+ using ch_score"
   ]
  },
  {
   "cell_type": "code",
   "execution_count": 208,
   "id": "7f1481bf",
   "metadata": {},
   "outputs": [],
   "source": [
    "nc = [2,3,4,5,6,7,8,9]\n",
    "chs1 = []\n",
    "for i in nc:\n",
    "    hc = AgglomerativeClustering(n_clusters=i,affinity='euclidean',linkage='complete')\n",
    "    y = hc.fit_predict(df_norm)\n",
    "    chs1.append(chs(df_norm,y))"
   ]
  },
  {
   "cell_type": "code",
   "execution_count": 209,
   "id": "10cc2c34",
   "metadata": {},
   "outputs": [
    {
     "data": {
      "image/png": "[encoded data removed]",
      "text/plain": [
       "<Figure size 432x288 with 1 Axes>"
      ]
     },
     "metadata": {
      "needs_background": "light"
     },
     "output_type": "display_data"
    }
   ],
   "source": [
    "plt.plot(nc,chs1,color=\"black\")\n",
    "plt.scatter(nc,chs1,color=\"red\")\n",
    "plt.show()"
   ]
  },
  {
   "cell_type": "code",
   "execution_count": 210,
   "id": "de7ac28a",
   "metadata": {},
   "outputs": [],
   "source": [
    "# hence 2 is optimal no of clusters according to c-h score"
   ]
  },
  {
   "cell_type": "markdown",
   "id": "1e0be0b6",
   "metadata": {},
   "source": [
    "# Using DBSCAN"
   ]
  },
  {
   "cell_type": "code",
   "execution_count": 246,
   "id": "782a83c9",
   "metadata": {},
   "outputs": [],
   "source": [
    "model = DBSCAN(min_samples=2,eps=0.4)\n",
    "y = model.fit_predict(df_norm)"
   ]
  },
  {
   "cell_type": "code",
   "execution_count": 247,
   "id": "ac0a817f",
   "metadata": {},
   "outputs": [
    {
     "data": {
      "text/plain": [
       "array([ 0, -1,  0,  0,  0,  0,  0,  0,  0,  0,  0,  0,  0,  0,  0,  0,  0,\n",
       "        0,  0,  0,  0,  0,  0,  0,  0,  0,  0,  0,  0,  0,  0,  0,  0,  0,\n",
       "        0,  0,  0,  0,  0,  0,  0,  0,  0,  0,  0,  0,  0,  0,  0,  0],\n",
       "      dtype=int64)"
      ]
     },
     "execution_count": 247,
     "metadata": {},
     "output_type": "execute_result"
    }
   ],
   "source": [
    "y"
   ]
  },
  {
   "cell_type": "code",
   "execution_count": 252,
   "id": "b5d41335",
   "metadata": {},
   "outputs": [
    {
     "data": {
      "text/html": [
       "<div>\n",
       "<style scoped>\n",
       "    .dataframe tbody tr th:only-of-type {\n",
       "        vertical-align: middle;\n",
       "    }\n",
       "\n",
       "    .dataframe tbody tr th {\n",
       "        vertical-align: top;\n",
       "    }\n",
       "\n",
       "    .dataframe thead th {\n",
       "        text-align: right;\n",
       "    }\n",
       "</style>\n",
       "<table border=\"1\" class=\"dataframe\">\n",
       "  <thead>\n",
       "    <tr style=\"text-align: right;\">\n",
       "      <th></th>\n",
       "      <th>Unnamed: 0</th>\n",
       "      <th>Murder</th>\n",
       "      <th>Assault</th>\n",
       "      <th>UrbanPop</th>\n",
       "      <th>Rape</th>\n",
       "    </tr>\n",
       "  </thead>\n",
       "  <tbody>\n",
       "    <tr>\n",
       "      <th>0</th>\n",
       "      <td>Alabama</td>\n",
       "      <td>13.2</td>\n",
       "      <td>236</td>\n",
       "      <td>58</td>\n",
       "      <td>21.2</td>\n",
       "    </tr>\n",
       "    <tr>\n",
       "      <th>1</th>\n",
       "      <td>Alaska</td>\n",
       "      <td>10.0</td>\n",
       "      <td>263</td>\n",
       "      <td>48</td>\n",
       "      <td>44.5</td>\n",
       "    </tr>\n",
       "    <tr>\n",
       "      <th>2</th>\n",
       "      <td>Arizona</td>\n",
       "      <td>8.1</td>\n",
       "      <td>294</td>\n",
       "      <td>80</td>\n",
       "      <td>31.0</td>\n",
       "    </tr>\n",
       "    <tr>\n",
       "      <th>3</th>\n",
       "      <td>Arkansas</td>\n",
       "      <td>8.8</td>\n",
       "      <td>190</td>\n",
       "      <td>50</td>\n",
       "      <td>19.5</td>\n",
       "    </tr>\n",
       "    <tr>\n",
       "      <th>4</th>\n",
       "      <td>California</td>\n",
       "      <td>9.0</td>\n",
       "      <td>276</td>\n",
       "      <td>91</td>\n",
       "      <td>40.6</td>\n",
       "    </tr>\n",
       "  </tbody>\n",
       "</table>\n",
       "</div>"
      ],
      "text/plain": [
       "   Unnamed: 0  Murder  Assault  UrbanPop  Rape\n",
       "0     Alabama    13.2      236        58  21.2\n",
       "1      Alaska    10.0      263        48  44.5\n",
       "2     Arizona     8.1      294        80  31.0\n",
       "3    Arkansas     8.8      190        50  19.5\n",
       "4  California     9.0      276        91  40.6"
      ]
     },
     "execution_count": 252,
     "metadata": {},
     "output_type": "execute_result"
    }
   ],
   "source": [
    "df.head()"
   ]
  },
  {
   "cell_type": "code",
   "execution_count": 284,
   "id": "27f602bc",
   "metadata": {},
   "outputs": [],
   "source": [
    "state_names_high= []\n",
    "state_names_low= []\n",
    "for i in range(0,50):\n",
    "    if df_kmeans1[\"y\"][i]==0:\n",
    "        state_names_low.append(df[\"State\"][i]) \n",
    "    else:\n",
    "        state_names_high.append(df[\"State\"][i]) "
   ]
  },
  {
   "cell_type": "code",
   "execution_count": 285,
   "id": "cefccf2a",
   "metadata": {},
   "outputs": [
    {
     "data": {
      "text/plain": [
       "['Alabama',\n",
       " 'Alaska',\n",
       " 'Arizona',\n",
       " 'California',\n",
       " 'Colorado',\n",
       " 'Florida',\n",
       " 'Georgia',\n",
       " 'Illinois',\n",
       " 'Louisiana',\n",
       " 'Maryland',\n",
       " 'Michigan',\n",
       " 'Mississippi',\n",
       " 'Missouri',\n",
       " 'Nevada',\n",
       " 'New Mexico',\n",
       " 'New York',\n",
       " 'North Carolina',\n",
       " 'South Carolina',\n",
       " 'Tennessee',\n",
       " 'Texas']"
      ]
     },
     "execution_count": 285,
     "metadata": {},
     "output_type": "execute_result"
    }
   ],
   "source": [
    "state_names_high"
   ]
  },
  {
   "cell_type": "code",
   "execution_count": 286,
   "id": "bf835ec3",
   "metadata": {},
   "outputs": [
    {
     "data": {
      "text/plain": [
       "['Arkansas',\n",
       " 'Connecticut',\n",
       " 'Delaware',\n",
       " 'Hawaii',\n",
       " 'Idaho',\n",
       " 'Indiana',\n",
       " 'Iowa',\n",
       " 'Kansas',\n",
       " 'Kentucky',\n",
       " 'Maine',\n",
       " 'Massachusetts',\n",
       " 'Minnesota',\n",
       " 'Montana',\n",
       " 'Nebraska',\n",
       " 'New Hampshire',\n",
       " 'New Jersey',\n",
       " 'North Dakota',\n",
       " 'Ohio',\n",
       " 'Oklahoma',\n",
       " 'Oregon',\n",
       " 'Pennsylvania',\n",
       " 'Rhode Island',\n",
       " 'South Dakota',\n",
       " 'Utah',\n",
       " 'Vermont',\n",
       " 'Virginia',\n",
       " 'Washington',\n",
       " 'West Virginia',\n",
       " 'Wisconsin',\n",
       " 'Wyoming']"
      ]
     },
     "execution_count": 286,
     "metadata": {},
     "output_type": "execute_result"
    }
   ],
   "source": [
    "state_names_low"
   ]
  },
  {
   "cell_type": "markdown",
   "id": "b121678c",
   "metadata": {},
   "source": [
    "# Hence from k-means & hierarchical we get following 2 clusters\n",
    "High crime rate as: ['Alabama',\n",
    " 'Alaska',\n",
    " 'Arizona',\n",
    " 'California',\n",
    " 'Colorado',\n",
    " 'Florida',\n",
    " 'Georgia',\n",
    " 'Illinois',\n",
    " 'Louisiana',\n",
    " 'Maryland',\n",
    " 'Michigan',\n",
    " 'Mississippi',\n",
    " 'Missouri',\n",
    " 'Nevada',\n",
    " 'New Mexico',\n",
    " 'New York',\n",
    " 'North Carolina',\n",
    " 'South Carolina',\n",
    " 'Tennessee',\n",
    " 'Texas']\n",
    " \n",
    " Low crime rate as:\n",
    " ['Arkansas',\n",
    " 'Connecticut',\n",
    " 'Delaware',\n",
    " 'Hawaii',\n",
    " 'Idaho',\n",
    " 'Indiana',\n",
    " 'Iowa',\n",
    " 'Kansas',\n",
    " 'Kentucky',\n",
    " 'Maine',\n",
    " 'Massachusetts',\n",
    " 'Minnesota',\n",
    " 'Montana',\n",
    " 'Nebraska',\n",
    " 'New Hampshire',\n",
    " 'New Jersey',\n",
    " 'North Dakota',\n",
    " 'Ohio',\n",
    " 'Oklahoma',\n",
    " 'Oregon',\n",
    " 'Pennsylvania',\n",
    " 'Rhode Island',\n",
    " 'South Dakota',\n",
    " 'Utah',\n",
    " 'Vermont',\n",
    " 'Virginia',\n",
    " 'Washington',\n",
    " 'West Virginia',\n",
    " 'Wisconsin',\n",
    " 'Wyoming']"
   ]
  },
  {
   "cell_type": "markdown",
   "id": "2f492d28",
   "metadata": {},
   "source": [
    "# From DBSCAN we also get Alaska has highest crime rate as it is an outlier"
   ]
  }
 ],
 "metadata": {
  "kernelspec": {
   "display_name": "Python 3",
   "language": "python",
   "name": "python3"
  },
  "language_info": {
   "codemirror_mode": {
    "name": "ipython",
    "version": 3
   },
   "file_extension": ".py",
   "mimetype": "text/x-python",
   "name": "python",
   "nbconvert_exporter": "python",
   "pygments_lexer": "ipython3",
   "version": "3.8.8"
  }
 },
 "nbformat": 4,
 "nbformat_minor": 5
}
